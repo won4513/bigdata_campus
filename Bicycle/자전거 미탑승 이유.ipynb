{
 "cells": [
  {
   "cell_type": "code",
   "execution_count": 165,
   "metadata": {},
   "outputs": [],
   "source": [
    "import pandas as pd \n",
    "import numpy as np\n",
    "import matplotlib.pyplot as plt\n",
    "import seaborn as sns\n",
    "\n",
    "plt.rc('font', family='Malgun Gothic')\n",
    "sns.set(font=\"Malgun Gothic\",#\"NanumGothicCoding\", \n",
    "        rc={\"axes.unicode_minus\":False}, # 마이너스 부호 깨짐 현상 해결\n",
    "        style='darkgrid')"
   ]
  },
  {
   "cell_type": "code",
   "execution_count": 164,
   "metadata": {},
   "outputs": [],
   "source": [
    "data=pd.read_csv(\"C:/Users/guswn/OneDrive/바탕 화면/bike/자전거_미이용_이유_20231029143431.csv\",encoding=\"utf-8\")"
   ]
  },
  {
   "cell_type": "code",
   "execution_count": 151,
   "metadata": {},
   "outputs": [],
   "source": [
    "#1순위만 뽑음\n",
    "data=data.iloc[:,:10]"
   ]
  },
  {
   "cell_type": "code",
   "execution_count": 154,
   "metadata": {},
   "outputs": [],
   "source": [
    "data = data.iloc[1:]\n",
    "\n",
    "# 세번째 줄을 HEADER로 설정\n",
    "data.columns = data.iloc[0]\n",
    "data = data[1:]"
   ]
  },
  {
   "cell_type": "code",
   "execution_count": 155,
   "metadata": {},
   "outputs": [],
   "source": [
    "data2=data[data[\"특성별(1)\"]==\"연령별\"]\n",
    "data2=data2.drop(\"특성별(1)\",axis=1)"
   ]
  },
  {
   "cell_type": "code",
   "execution_count": 156,
   "metadata": {},
   "outputs": [
    {
     "data": {
      "text/html": [
       "<div>\n",
       "<style scoped>\n",
       "    .dataframe tbody tr th:only-of-type {\n",
       "        vertical-align: middle;\n",
       "    }\n",
       "\n",
       "    .dataframe tbody tr th {\n",
       "        vertical-align: top;\n",
       "    }\n",
       "\n",
       "    .dataframe thead th {\n",
       "        text-align: right;\n",
       "    }\n",
       "</style>\n",
       "<table border=\"1\" class=\"dataframe\">\n",
       "  <thead>\n",
       "    <tr style=\"text-align: right;\">\n",
       "      <th>1</th>\n",
       "      <th>특성별(2)</th>\n",
       "      <th>자전거를 타지 못함</th>\n",
       "      <th>위험한 이용 환경</th>\n",
       "      <th>자전거 보관시설 미비</th>\n",
       "      <th>날씨/거리상 불편함</th>\n",
       "      <th>자전거 이용 시 불편함</th>\n",
       "      <th>자전거 전용도로 부족</th>\n",
       "      <th>사회적 지위와 체면</th>\n",
       "      <th>이용편의시설 부족</th>\n",
       "    </tr>\n",
       "  </thead>\n",
       "  <tbody>\n",
       "    <tr>\n",
       "      <th>7</th>\n",
       "      <td>15~29세</td>\n",
       "      <td>21.8</td>\n",
       "      <td>16.9</td>\n",
       "      <td>6.1</td>\n",
       "      <td>16.5</td>\n",
       "      <td>37.1</td>\n",
       "      <td>8.1</td>\n",
       "      <td>-</td>\n",
       "      <td>1.8</td>\n",
       "    </tr>\n",
       "    <tr>\n",
       "      <th>8</th>\n",
       "      <td>30~39세</td>\n",
       "      <td>22.5</td>\n",
       "      <td>17.0</td>\n",
       "      <td>4.1</td>\n",
       "      <td>16.1</td>\n",
       "      <td>37.8</td>\n",
       "      <td>12.8</td>\n",
       "      <td>1.0</td>\n",
       "      <td>3.2</td>\n",
       "    </tr>\n",
       "    <tr>\n",
       "      <th>9</th>\n",
       "      <td>40~49세</td>\n",
       "      <td>24.8</td>\n",
       "      <td>16.9</td>\n",
       "      <td>3.3</td>\n",
       "      <td>19.1</td>\n",
       "      <td>32.7</td>\n",
       "      <td>11.1</td>\n",
       "      <td>0.2</td>\n",
       "      <td>2.9</td>\n",
       "    </tr>\n",
       "    <tr>\n",
       "      <th>10</th>\n",
       "      <td>50~59세</td>\n",
       "      <td>29.0</td>\n",
       "      <td>16.4</td>\n",
       "      <td>3.6</td>\n",
       "      <td>12.7</td>\n",
       "      <td>35.2</td>\n",
       "      <td>9.9</td>\n",
       "      <td>0.8</td>\n",
       "      <td>2.1</td>\n",
       "    </tr>\n",
       "    <tr>\n",
       "      <th>11</th>\n",
       "      <td>60세 이상</td>\n",
       "      <td>51.4</td>\n",
       "      <td>18.3</td>\n",
       "      <td>2.5</td>\n",
       "      <td>7.0</td>\n",
       "      <td>19.5</td>\n",
       "      <td>3.5</td>\n",
       "      <td>0.1</td>\n",
       "      <td>0.7</td>\n",
       "    </tr>\n",
       "  </tbody>\n",
       "</table>\n",
       "</div>"
      ],
      "text/plain": [
       "1   특성별(2) 자전거를 타지 못함 위험한 이용 환경 자전거 보관시설 미비 날씨/거리상 불편함 자전거 이용 시 불편함  \\\n",
       "7   15~29세       21.8      16.9         6.1       16.5         37.1   \n",
       "8   30~39세       22.5      17.0         4.1       16.1         37.8   \n",
       "9   40~49세       24.8      16.9         3.3       19.1         32.7   \n",
       "10  50~59세       29.0      16.4         3.6       12.7         35.2   \n",
       "11  60세 이상       51.4      18.3         2.5        7.0         19.5   \n",
       "\n",
       "1  자전거 전용도로 부족 사회적 지위와 체면 이용편의시설 부족  \n",
       "7          8.1          -       1.8  \n",
       "8         12.8        1.0       3.2  \n",
       "9         11.1        0.2       2.9  \n",
       "10         9.9        0.8       2.1  \n",
       "11         3.5        0.1       0.7  "
      ]
     },
     "execution_count": 156,
     "metadata": {},
     "output_type": "execute_result"
    }
   ],
   "source": [
    "data2"
   ]
  },
  {
   "cell_type": "code",
   "execution_count": 158,
   "metadata": {},
   "outputs": [],
   "source": [
    "data2.replace('-', float(0), inplace=True)"
   ]
  },
  {
   "cell_type": "code",
   "execution_count": 159,
   "metadata": {},
   "outputs": [],
   "source": [
    "numeric_columns = data2.columns[1:]  # 숫자로 변환할 열 선택, 첫 번째 열은 제외\n",
    "data2[numeric_columns] = data2[numeric_columns].astype(float)"
   ]
  },
  {
   "cell_type": "code",
   "execution_count": 123,
   "metadata": {},
   "outputs": [
    {
     "name": "stdout",
     "output_type": "stream",
     "text": [
      "<class 'pandas.core.frame.DataFrame'>\n",
      "Int64Index: 5 entries, 7 to 11\n",
      "Data columns (total 19 columns):\n",
      " #   Column        Non-Null Count  Dtype \n",
      "---  ------        --------------  ----- \n",
      " 0   특성별(2)        5 non-null      object\n",
      " 1   자전거를 타지 못함    5 non-null      object\n",
      " 2   위험한 이용 환경     5 non-null      object\n",
      " 3   자전거 보관시설 미비   5 non-null      object\n",
      " 4   날씨/거리상 불편함    5 non-null      object\n",
      " 5   자전거 이용 시 불편함  5 non-null      object\n",
      " 6   자전거 전용도로 부족   5 non-null      object\n",
      " 7   사회적 지위와 체면    5 non-null      object\n",
      " 8   이용편의시설 부족     5 non-null      object\n",
      " 9   기타            5 non-null      object\n",
      " 10  자전거를 타지 못함    5 non-null      object\n",
      " 11  위험한 이용 환경     5 non-null      object\n",
      " 12  자전거 보관시설 미비   5 non-null      object\n",
      " 13  날씨\\/거리상 불편함   5 non-null      object\n",
      " 14  자전거 이용 시 불편함  5 non-null      object\n",
      " 15  자전거 전용도로 부족   5 non-null      object\n",
      " 16  사회적 지위와 체면    5 non-null      object\n",
      " 17  이용편의시설 부족     5 non-null      object\n",
      " 18  기타            5 non-null      object\n",
      "dtypes: object(19)\n",
      "memory usage: 800.0+ bytes\n"
     ]
    }
   ],
   "source": [
    "data2.info()"
   ]
  },
  {
   "cell_type": "code",
   "execution_count": 169,
   "metadata": {},
   "outputs": [
    {
     "data": {
      "text/plain": [
       "Text(0.5, 1.0, '자전거 불만족 이유')"
      ]
     },
     "execution_count": 169,
     "metadata": {},
     "output_type": "execute_result"
    },
    {
     "data": {
      "image/png": "[encoded data removed]",
      "text/plain": [
       "<Figure size 1440x360 with 1 Axes>"
      ]
     },
     "metadata": {},
     "output_type": "display_data"
    }
   ],
   "source": [
    "data2.plot.bar(x=\"특성별(2)\",alpha=0.5,stacked=True, figsize=(20,5))\n",
    "plt.title(\"자전거 불만족 이유\")"
   ]
  },
  {
   "cell_type": "code",
   "execution_count": 167,
   "metadata": {},
   "outputs": [
    {
     "data": {
      "text/html": [
       "<div>\n",
       "<style scoped>\n",
       "    .dataframe tbody tr th:only-of-type {\n",
       "        vertical-align: middle;\n",
       "    }\n",
       "\n",
       "    .dataframe tbody tr th {\n",
       "        vertical-align: top;\n",
       "    }\n",
       "\n",
       "    .dataframe thead th {\n",
       "        text-align: right;\n",
       "    }\n",
       "</style>\n",
       "<table border=\"1\" class=\"dataframe\">\n",
       "  <thead>\n",
       "    <tr style=\"text-align: right;\">\n",
       "      <th>1</th>\n",
       "      <th>특성별(2)</th>\n",
       "      <th>자전거를 타지 못함</th>\n",
       "      <th>위험한 이용 환경</th>\n",
       "      <th>자전거 보관시설 미비</th>\n",
       "      <th>날씨/거리상 불편함</th>\n",
       "      <th>자전거 이용 시 불편함</th>\n",
       "      <th>자전거 전용도로 부족</th>\n",
       "      <th>사회적 지위와 체면</th>\n",
       "      <th>이용편의시설 부족</th>\n",
       "    </tr>\n",
       "  </thead>\n",
       "  <tbody>\n",
       "    <tr>\n",
       "      <th>7</th>\n",
       "      <td>15~29세</td>\n",
       "      <td>21.8</td>\n",
       "      <td>16.9</td>\n",
       "      <td>6.1</td>\n",
       "      <td>16.5</td>\n",
       "      <td>37.1</td>\n",
       "      <td>8.1</td>\n",
       "      <td>0.0</td>\n",
       "      <td>1.8</td>\n",
       "    </tr>\n",
       "    <tr>\n",
       "      <th>8</th>\n",
       "      <td>30~39세</td>\n",
       "      <td>22.5</td>\n",
       "      <td>17.0</td>\n",
       "      <td>4.1</td>\n",
       "      <td>16.1</td>\n",
       "      <td>37.8</td>\n",
       "      <td>12.8</td>\n",
       "      <td>1.0</td>\n",
       "      <td>3.2</td>\n",
       "    </tr>\n",
       "    <tr>\n",
       "      <th>9</th>\n",
       "      <td>40~49세</td>\n",
       "      <td>24.8</td>\n",
       "      <td>16.9</td>\n",
       "      <td>3.3</td>\n",
       "      <td>19.1</td>\n",
       "      <td>32.7</td>\n",
       "      <td>11.1</td>\n",
       "      <td>0.2</td>\n",
       "      <td>2.9</td>\n",
       "    </tr>\n",
       "    <tr>\n",
       "      <th>10</th>\n",
       "      <td>50~59세</td>\n",
       "      <td>29.0</td>\n",
       "      <td>16.4</td>\n",
       "      <td>3.6</td>\n",
       "      <td>12.7</td>\n",
       "      <td>35.2</td>\n",
       "      <td>9.9</td>\n",
       "      <td>0.8</td>\n",
       "      <td>2.1</td>\n",
       "    </tr>\n",
       "    <tr>\n",
       "      <th>11</th>\n",
       "      <td>60세 이상</td>\n",
       "      <td>51.4</td>\n",
       "      <td>18.3</td>\n",
       "      <td>2.5</td>\n",
       "      <td>7.0</td>\n",
       "      <td>19.5</td>\n",
       "      <td>3.5</td>\n",
       "      <td>0.1</td>\n",
       "      <td>0.7</td>\n",
       "    </tr>\n",
       "  </tbody>\n",
       "</table>\n",
       "</div>"
      ],
      "text/plain": [
       "1   특성별(2)  자전거를 타지 못함  위험한 이용 환경  자전거 보관시설 미비  날씨/거리상 불편함  자전거 이용 시 불편함  \\\n",
       "7   15~29세        21.8       16.9          6.1        16.5          37.1   \n",
       "8   30~39세        22.5       17.0          4.1        16.1          37.8   \n",
       "9   40~49세        24.8       16.9          3.3        19.1          32.7   \n",
       "10  50~59세        29.0       16.4          3.6        12.7          35.2   \n",
       "11  60세 이상        51.4       18.3          2.5         7.0          19.5   \n",
       "\n",
       "1   자전거 전용도로 부족  사회적 지위와 체면  이용편의시설 부족  \n",
       "7           8.1         0.0        1.8  \n",
       "8          12.8         1.0        3.2  \n",
       "9          11.1         0.2        2.9  \n",
       "10          9.9         0.8        2.1  \n",
       "11          3.5         0.1        0.7  "
      ]
     },
     "execution_count": 167,
     "metadata": {},
     "output_type": "execute_result"
    }
   ],
   "source": [
    "data2"
   ]
  }
 ],
 "metadata": {
  "kernelspec": {
   "display_name": "base",
   "language": "python",
   "name": "python3"
  },
  "language_info": {
   "codemirror_mode": {
    "name": "ipython",
    "version": 3
   },
   "file_extension": ".py",
   "mimetype": "text/x-python",
   "name": "python",
   "nbconvert_exporter": "python",
   "pygments_lexer": "ipython3",
   "version": "3.9.12"
  }
 },
 "nbformat": 4,
 "nbformat_minor": 2
}
